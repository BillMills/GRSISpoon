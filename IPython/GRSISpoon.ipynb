{
 "metadata": {
  "name": ""
 },
 "nbformat": 3,
 "nbformat_minor": 0,
 "worksheets": [
  {
   "cells": [
    {
     "cell_type": "code",
     "collapsed": false,
     "input": [
      "%%HTML \n",
      "\n",
      "<div id='topNav'>\n",
      "    <canvas id='GRSIlogo' width='160' height='60'></canvas>\n",
      "    <button id='hideGuts' onclick='hide()'>Hide Code</button>\n",
      "    <div class='headerLinks' id='showGuts' onclick='show()'>Under The Hood</div>\n",
      "    <a class='headerLinks' id='ourRepo' href='https://github.com/GRIFFINCollaboration/GRSISpoon'>Github</a>\n",
      "    <a class='headerLinks' id='IPython' href='http://ipython.org/notebook.html'>IPython</a>\n",
      "</div>\n",
      "<p id='tagBlock'>GRSISpoon Web Control</p>\n",
      "<script type=\"text/javascript\">\n",
      "\n",
      "    var widgetSpan = document.getElementById('hideGuts').parentNode.parentNode.parentNode.parentNode.parentNode.parentNode.id = 'internalHeader';\n",
      "\n",
      "    function hide(){\n",
      "        $('div.input').hide();\n",
      "        $('div.out_prompt_overlay.prompt').hide();\n",
      "        $('div.prompt.output_prompt').hide();\n",
      "        $('div#header').hide();\n",
      "        $('div#menubar-container').hide();\n",
      "        $('div#pager').hide();\n",
      "        $('button#hideGuts').hide();\n",
      "        $('div#showGuts').show();\n",
      "    }\n",
      "    \n",
      "    function show(){\n",
      "        $('div.input').show();\n",
      "        $('div.out_prompt_overlay.prompt').show();\n",
      "        $('div.prompt.output_prompt').show();\n",
      "        $('div#header').show();\n",
      "        $('div#menubar-container').show();\n",
      "        $('div#pager').show();\n",
      "        $('button#hideGuts').show();\n",
      "        $('div#showGuts').hide();\n",
      "    }\n",
      "</script>"
     ],
     "language": "python",
     "metadata": {},
     "outputs": [
      {
       "html": [
        "\n",
        "<div id='topNav'>\n",
        "    <canvas id='GRSIlogo' width='160' height='60'></canvas>\n",
        "    <button id='hideGuts' onclick='hide()'>Hide Code</button>\n",
        "    <div class='headerLinks' id='showGuts' onclick='show()'>Under The Hood</div>\n",
        "    <a class='headerLinks' id='ourRepo' href='https://github.com/GRIFFINCollaboration/GRSISpoon'>Github</a>\n",
        "    <a class='headerLinks' id='IPython' href='http://ipython.org/notebook.html'>IPython</a>\n",
        "</div>\n",
        "<p id='tagBlock'>GRSISpoon Web Control</p>\n",
        "<script type=\"text/javascript\">\n",
        "\n",
        "    var widgetSpan = document.getElementById('hideGuts').parentNode.parentNode.parentNode.parentNode.parentNode.parentNode.id = 'internalHeader';\n",
        "\n",
        "    function hide(){\n",
        "        $('div.input').hide();\n",
        "        $('div.out_prompt_overlay.prompt').hide();\n",
        "        $('div.prompt.output_prompt').hide();\n",
        "        $('div#header').hide();\n",
        "        $('div#menubar-container').hide();\n",
        "        $('div#pager').hide();\n",
        "        $('button#hideGuts').hide();\n",
        "        $('div#showGuts').show();\n",
        "    }\n",
        "    \n",
        "    function show(){\n",
        "        $('div.input').show();\n",
        "        $('div.out_prompt_overlay.prompt').show();\n",
        "        $('div.prompt.output_prompt').show();\n",
        "        $('div#header').show();\n",
        "        $('div#menubar-container').show();\n",
        "        $('div#pager').show();\n",
        "        $('button#hideGuts').show();\n",
        "        $('div#showGuts').hide();\n",
        "    }\n",
        "</script>"
       ],
       "metadata": {},
       "output_type": "display_data",
       "text": [
        "<IPython.core.display.HTML at 0x37e5b90>"
       ]
      }
     ],
     "prompt_number": 1
    },
    {
     "cell_type": "code",
     "collapsed": false,
     "input": [
      "%%HTML\n",
      "\n",
      "<div id='testwrap'>\n",
      "<select id='plotOptions'></select>\n",
      "<img id='imgtarget'></img>\n",
      "<button id='fetchplot' onclick='exec_code()'>Plot</button>\n",
      "</div>\n",
      "\n",
      "<script> \n",
      "    var widgetSpan = document.getElementById('testwrap').parentNode.parentNode.parentNode.parentNode.parentNode.id = 'plotWidget';\n",
      "</script>"
     ],
     "language": "python",
     "metadata": {},
     "outputs": [
      {
       "html": [
        "\n",
        "<div id='testwrap'>\n",
        "<select id='plotOptions'></select>\n",
        "<img id='imgtarget'></img>\n",
        "<button id='fetchplot' onclick='exec_code()'>Plot</button>\n",
        "</div>\n",
        "\n",
        "<script> \n",
        "    var widgetSpan = document.getElementById('testwrap').parentNode.parentNode.parentNode.parentNode.parentNode.id = 'plotWidget';\n",
        "</script>"
       ],
       "metadata": {},
       "output_type": "display_data",
       "text": [
        "<IPython.core.display.HTML at 0x443ff90>"
       ]
      }
     ],
     "prompt_number": 2
    },
    {
     "cell_type": "code",
     "collapsed": false,
     "input": [
      "%%HTML\n",
      "\n",
      "<h2>System Load Monitor</h2>\n",
      "\n",
      "<canvas id='systemUseCanvas'></canvas>\n",
      "\n",
      "<script> \n",
      "    var widgetSpan = document.getElementById('systemUseCanvas').parentNode.parentNode.parentNode.parentNode.parentNode.id = 'systemUseWidget';\n",
      "</script>\n",
      "\n"
     ],
     "language": "python",
     "metadata": {},
     "outputs": [
      {
       "html": [
        "\n",
        "<h2>System Load Monitor</h2>\n",
        "\n",
        "<canvas id='systemUseCanvas'></canvas>\n",
        "\n",
        "<script> \n",
        "    var widgetSpan = document.getElementById('systemUseCanvas').parentNode.parentNode.parentNode.parentNode.parentNode.id = 'systemUseWidget';\n",
        "</script>\n"
       ],
       "metadata": {},
       "output_type": "display_data",
       "text": [
        "<IPython.core.display.HTML at 0x4e33d90>"
       ]
      }
     ],
     "prompt_number": 1
    }
   ],
   "metadata": {}
  }
 ]
}